{
 "cells": [
  {
   "cell_type": "code",
   "execution_count": 1,
   "metadata": {},
   "outputs": [],
   "source": [
    "import os\n",
    "os.chdir(\"src\")\n",
    "from env_predicter import Wrapper, NewArgs, BasicArgs, EnvApp, MarkovSampler\n",
    "from models import DoubleQNET, Backbone\n",
    "import torch\n",
    "import torch.nn as nn\n",
    "import numpy as np\n",
    "from snake_game import SnakeGame, FrameStack\n",
    "import gymnasium as gym\n",
    "from gymnasium import spaces\n",
    "from tqdm import tqdm\n",
    "import matplotlib.pyplot as plt\n",
    "import random"
   ]
  },
  {
   "cell_type": "code",
   "execution_count": 4,
   "metadata": {},
   "outputs": [
    {
     "name": "stdout",
     "output_type": "stream",
     "text": [
      "linear eps anneal\n"
     ]
    },
    {
     "data": {
      "text/plain": [
       "<All keys matched successfully>"
      ]
     },
     "execution_count": 4,
     "metadata": {},
     "output_type": "execute_result"
    }
   ],
   "source": [
    "device = \"cpu\"\n",
    "\n",
    "\n",
    "agent_args = BasicArgs(\n",
    "        n_envs=8,\n",
    "        manhatten_fac=0,\n",
    "        batch_size=32,\n",
    "        min_eps=0.05,\n",
    "        n_epoch_refil=1,\n",
    "        n_obs_reward=3 + 1,\n",
    "    device=device, )\n",
    "random.seed(agent_args.seed)\n",
    "np.random.seed(agent_args.seed)\n",
    "torch.manual_seed(agent_args.seed)\n",
    "                       \n",
    "agent = DoubleQNET(agent_args)\n",
    "agent.load_state_dict(torch.load(\"../best.ckpt\", map_location=device))\n",
    "\n",
    "args = NewArgs(run_name=\"test\", m_width=32, device=device, data_points=1000)\n",
    "env_model = EnvApp(args)\n",
    "env_model.load_state_dict(torch.load(\"../models/env_sampler.ckpt\", map_location = device)[\"state_dict\"])"
   ]
  },
  {
   "cell_type": "code",
   "execution_count": 7,
   "metadata": {},
   "outputs": [
    {
     "name": "stderr",
     "output_type": "stream",
     "text": [
      "Evaluating Env Model performance: 100%|██████████| 100/100 [00:01<00:00, 56.95it/s]\n"
     ]
    },
    {
     "data": {
      "text/plain": [
       "(1.0, 1.0, tensor(1.), 14.0)"
      ]
     },
     "execution_count": 7,
     "metadata": {},
     "output_type": "execute_result"
    }
   ],
   "source": [
    "sampler = MarkovSampler(agent=agent.model, env_model=env_model, device=device, agent_args=agent_args, max_depth=100) \n",
    "sampler.eval_env_model_performance(10000)"
   ]
  },
  {
   "cell_type": "code",
   "execution_count": null,
   "metadata": {},
   "outputs": [
    {
     "data": {
      "image/png": "[encoded data removed]",
      "text/plain": [
       "<Figure size 640x480 with 1 Axes>"
      ]
     },
     "metadata": {},
     "output_type": "display_data"
    }
   ],
   "source": [
    "env = SnakeGame(\n",
    "    width=agent_args.width_and_height,\n",
    "    height=agent_args.width_and_height,\n",
    "    border=agent_args.border,\n",
    "    food_amount=1,\n",
    "    render_mode=\"human\",\n",
    "    manhatten_fac=0,\n",
    "    mode=\"eval\",\n",
    "    seed = 1000\n",
    ")\n",
    "\n",
    "env = FrameStack(env)\n",
    "obs = env.reset()[0]\n",
    "env.render()"
   ]
  },
  {
   "cell_type": "markdown",
   "metadata": {},
   "source": [
    "Evaling Agent"
   ]
  },
  {
   "cell_type": "code",
   "execution_count": 16,
   "metadata": {},
   "outputs": [
    {
     "name": "stderr",
     "output_type": "stream",
     "text": [
      "100%|██████████| 10000/10000 [00:38<00:00, 262.73it/s]\n"
     ]
    },
    {
     "data": {
      "text/plain": [
       "(30.392857142857142, 354.07142857142856)"
      ]
     },
     "execution_count": 16,
     "metadata": {},
     "output_type": "execute_result"
    }
   ],
   "source": [
    "N_STEPS = 10000\n",
    "MAX_DEPTH = 10\n",
    "\n",
    "sampler = MarkovSampler(agent=agent.model, env_model=env_model, device=device, agent_args=agent_args, max_depth=MAX_DEPTH) \n",
    "\n",
    "\n",
    "scores = []\n",
    "lengths = []\n",
    "\n",
    "step = 0\n",
    "score = 0\n",
    "\n",
    "obs = env.reset()[0]\n",
    "\n",
    "for _ in tqdm(range(N_STEPS)):\n",
    "    \n",
    "    action = sampler.greedy_agent_action(obs[None,:])[0]\n",
    "    \n",
    "    obs, reward, done, truncated, info = env.step(action)\n",
    "    \n",
    "    score += reward\n",
    "    step += 1\n",
    "    \n",
    "    if done:\n",
    "        scores.append(score)\n",
    "        lengths.append(step)\n",
    "\n",
    "        score = 0\n",
    "        step = 0\n",
    "        obs = env.reset()[0]\n",
    "        \n",
    "np.mean(scores), np.mean(lengths)"
   ]
  },
  {
   "cell_type": "code",
   "execution_count": 17,
   "metadata": {},
   "outputs": [
    {
     "name": "stderr",
     "output_type": "stream",
     "text": [
      "  0%|          | 12/10000 [03:06<42:17:18, 15.24s/it]"
     ]
    }
   ],
   "source": [
    "N_STEPS = 10000\n",
    "\n",
    "scores = []\n",
    "lengths = []\n",
    "\n",
    "step = 0\n",
    "score = 0\n",
    "\n",
    "obs = env.reset()[0]\n",
    "\n",
    "for _ in tqdm(range(N_STEPS)):\n",
    "    \n",
    "    action = sampler.greedy_search(obs)\n",
    "    \n",
    "    obs, reward, done, truncated, info = env.step(action)\n",
    "    \n",
    "    score += reward\n",
    "    step += 1\n",
    "    \n",
    "    if done:\n",
    "        scores.append(score)\n",
    "        lengths.append(step)\n",
    "\n",
    "        score = 0\n",
    "        step = 0\n",
    "        obs = env.reset()[0]\n",
    "        \n",
    "np.mean(scores), np.mean(lengths)"
   ]
  },
  {
   "cell_type": "code",
   "execution_count": null,
   "metadata": {},
   "outputs": [],
   "source": []
  }
 ],
 "metadata": {
  "kernelspec": {
   "display_name": "torch",
   "language": "python",
   "name": "python3"
  },
  "language_info": {
   "codemirror_mode": {
    "name": "ipython",
    "version": 3
   },
   "file_extension": ".py",
   "mimetype": "text/x-python",
   "name": "python",
   "nbconvert_exporter": "python",
   "pygments_lexer": "ipython3",
   "version": "3.11.4"
  }
 },
 "nbformat": 4,
 "nbformat_minor": 2
}

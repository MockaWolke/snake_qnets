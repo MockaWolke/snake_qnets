{
 "cells": [
  {
   "cell_type": "code",
   "execution_count": 1,
   "metadata": {},
   "outputs": [],
   "source": [
    "from env_predicter import *"
   ]
  },
  {
   "cell_type": "code",
   "execution_count": 2,
   "metadata": {},
   "outputs": [
    {
     "name": "stdout",
     "output_type": "stream",
     "text": [
      "linear eps anneal\n"
     ]
    }
   ],
   "source": [
    "args = NewArgs(run_name=\"test\")\n",
    "\n",
    "agent_args = BasicArgs(\n",
    "    seed=0,\n",
    "    n_envs=8,\n",
    "    manhatten_fac=0,\n",
    "    batch_size=32,\n",
    "    min_eps=0.05,\n",
    "    n_epoch_refil=1,\n",
    "    n_obs_reward=args.n_steps_fut + 1,\n",
    "    device = args.device\n",
    ")\n",
    "\n",
    "random.seed(agent_args.seed)\n",
    "np.random.seed(agent_args.seed)\n",
    "torch.manual_seed(agent_args.seed)\n",
    "\n",
    "agent = DoubleQNET(agent_args)\n",
    "agent.load_state_dict(torch.load(\"../best.ckpt\", map_location=agent_args.device))\n",
    "\n",
    "envs = gym.vector.AsyncVectorEnv(\n",
    "[\n",
    "    make_env(\n",
    "        width=agent_args.width_and_height,\n",
    "        height=agent_args.width_and_height,\n",
    "        border=agent_args.border,\n",
    "        food_amount=agent_args.food_amount,\n",
    "        render_mode=\"rgb_array\",\n",
    "        manhatten_fac=agent_args.manhatten_fac,\n",
    "        mode=\"train\",\n",
    "        seed=i + agent_args.seed,\n",
    "    )\n",
    "    for i in range(agent_args.n_envs)\n",
    "]\n",
    ")"
   ]
  },
  {
   "cell_type": "code",
   "execution_count": 3,
   "metadata": {},
   "outputs": [
    {
     "name": "stderr",
     "output_type": "stream",
     "text": [
      "sample for eps 0.2: 100%|██████████| 128/128 [00:02<00:00, 63.29it/s]\n"
     ]
    }
   ],
   "source": [
    "data = gen_data(1000, 0.2, agent=agent, agent_args=agent_args,envs=envs, args=args)\n"
   ]
  },
  {
   "cell_type": "code",
   "execution_count": 26,
   "metadata": {},
   "outputs": [
    {
     "data": {
      "image/png": "[encoded data removed]",
      "text/plain": [
       "<Figure size 1000x400 with 4 Axes>"
      ]
     },
     "metadata": {},
     "output_type": "display_data"
    }
   ],
   "source": [
    "import random\n",
    "\n",
    "dataset = EnvDataset(data)\n",
    "x,y = random.choice(dataset)\n",
    "imgs,label = x.numpy(),y.numpy()\n",
    "\n",
    "imgs = np.transpose(x, (2,1,0))\n",
    "\n",
    "plt.figure(figsize=(10,4))\n",
    "for i in range(args.n_steps_fut):\n",
    "    plt.subplot(1, args.n_steps_fut + 1, i +1)\n",
    "    plt.imshow(imgs[:,:,i*3:(i+1)*3])\n",
    "    plt.axis(\"off\")\n",
    "    \n",
    "plt.subplot(1, args.n_steps_fut + 1, 4)\n",
    "plt.axis(\"off\")\n",
    "plt.imshow(label.T)\n",
    "plt.title(str(imgs[0,0,9:]))\n",
    "plt.tight_layout()\n",
    "plt.show()\n"
   ]
  }
 ],
 "metadata": {
  "kernelspec": {
   "display_name": "torch",
   "language": "python",
   "name": "python3"
  },
  "language_info": {
   "codemirror_mode": {
    "name": "ipython",
    "version": 3
   },
   "file_extension": ".py",
   "mimetype": "text/x-python",
   "name": "python",
   "nbconvert_exporter": "python",
   "pygments_lexer": "ipython3",
   "version": "3.11.4"
  }
 },
 "nbformat": 4,
 "nbformat_minor": 2
}
